{
 "cells": [
  {
   "cell_type": "code",
   "execution_count": 0,
   "metadata": {
    "application/vnd.databricks.v1+cell": {
     "cellMetadata": {
      "byteLimit": 2048000,
      "rowLimit": 10000
     },
     "inputWidgets": {},
     "nuid": "681a1c67-963f-49b5-8799-1e56b19039a7",
     "showTitle": false,
     "tableResultSettingsMap": {},
     "title": ""
    }
   },
   "outputs": [],
   "source": [
    "#fazendo imports que precisa para rodar esse notebook\n",
    "from pyspark.sql.types import StructType, StringType\n",
    "from pyspark.sql.functions import *\n",
    "import requests"
   ]
  },
  {
   "cell_type": "code",
   "execution_count": 0,
   "metadata": {
    "application/vnd.databricks.v1+cell": {
     "cellMetadata": {
      "byteLimit": 2048000,
      "rowLimit": 10000
     },
     "inputWidgets": {},
     "nuid": "aae0e380-fd7c-450e-9be2-3c81e21dd2f3",
     "showTitle": false,
     "tableResultSettingsMap": {},
     "title": ""
    }
   },
   "outputs": [
    {
     "output_type": "stream",
     "name": "stdout",
     "output_type": "stream",
     "text": [
      "Out[2]: True"
     ]
    }
   ],
   "source": [
    "#limpa a pasta onde irá pôr os arquivos .json \n",
    "dbutils.fs.rm(\"/mnt/tmp\", recurse = True)"
   ]
  },
  {
   "cell_type": "code",
   "execution_count": 0,
   "metadata": {
    "application/vnd.databricks.v1+cell": {
     "cellMetadata": {
      "byteLimit": 2048000,
      "rowLimit": 10000
     },
     "inputWidgets": {},
     "nuid": "8304c491-a427-4689-8557-786b7a16be57",
     "showTitle": false,
     "tableResultSettingsMap": {},
     "title": ""
    }
   },
   "outputs": [
    {
     "output_type": "stream",
     "name": "stdout",
     "output_type": "stream",
     "text": [
      "Contagem: 10\nDados salvos em /mnt/tmp/mockapi_data\nContagem: 9\nDados salvos em /mnt/tmp/mockapi_data\nContagem: 8\nDados salvos em /mnt/tmp/mockapi_data\nContagem: 7\nDados salvos em /mnt/tmp/mockapi_data\nContagem: 6\nDados salvos em /mnt/tmp/mockapi_data\nContagem: 5\nDados salvos em /mnt/tmp/mockapi_data\nContagem: 4\nDados salvos em /mnt/tmp/mockapi_data\nContagem: 3\nDados salvos em /mnt/tmp/mockapi_data\nContagem: 2\nDados salvos em /mnt/tmp/mockapi_data\nContagem: 1\nDados salvos em /mnt/tmp/mockapi_data\nFim da contagem!!\n"
     ]
    }
   ],
   "source": [
    "#Essa é uma API criada no mockapi.io, onde iremos pegar os dados para fazer o Streaming\n",
    "api_url = \"https://67c62439351c081993fc80d9.mockapi.io/v1\"\n",
    "\n",
    "# Caminho para armazenar os dados no Databricks (DBFS)\n",
    "data_path = \"/mnt/tmp/mockapi_data\"\n",
    "\n",
    "# Criar diretório, se não existir\n",
    "dbutils.fs.mkdirs(data_path)\n",
    "\n",
    "def fetch_and_save_data():\n",
    "    \"\"\"Busca os dados da API e salva em JSON no DBFS\"\"\"\n",
    "    response = requests.get(api_url)\n",
    "    \n",
    "    if response.status_code == 200:#valida se a resposta do servidor é igual à \"200\"\n",
    "        data = response.json()  # Converte para JSON\n",
    "        if data:  # Evita salvar arquivos vazios\n",
    "            df = spark.createDataFrame(data)#criando data frame\n",
    "            df.write.mode(\"append\").json(data_path)#escrevendo o arquivo no modo \"append\"(sempre add um arquivo mesmo que repetido) com o formato do arquivo em .json\n",
    "            print(f\"Dados salvos em {data_path}\")#printa onde foi salvo os dados\n",
    "    else:\n",
    "        print(f\"Erro ao buscar API: {response.status_code}\")#mostra o status_code do erro\n",
    "\n",
    "for i in range(10, 0, -1):\n",
    "    print(f\"Contagem: {i}\")\n",
    "    fetch_and_save_data()\n",
    "\n",
    "print(\"Fim da contagem!!\")"
   ]
  },
  {
   "cell_type": "code",
   "execution_count": 0,
   "metadata": {
    "application/vnd.databricks.v1+cell": {
     "cellMetadata": {
      "byteLimit": 2048000,
      "rowLimit": 10000
     },
     "inputWidgets": {},
     "nuid": "38933713-3605-4d57-ac2a-90717f7cdaeb",
     "showTitle": false,
     "tableResultSettingsMap": {},
     "title": ""
    }
   },
   "outputs": [],
   "source": [
    "# Definindo o Schema do DataSource, ou seja, do dado que chega pela API.\n",
    "#Adicionando a coliuna id e createdAt do tipo string\n",
    "json_schema = StructType() \\\n",
    "    .add(\"id\", StringType()) \\\n",
    "    .add(\"createdAt\", StringType())\n",
    "\n",
    "#definindo o schema e o local de salvamento no formato .json\n",
    "df_streaming_input = spark.readStream.schema(json_schema).json(data_path)\n",
    "\n",
    "\n",
    "# Realiza um agrupamento dos eventos (Open e Close) por minuto.\n",
    "df_streaming_counts = (\n",
    "    df_streaming_input.groupBy(#está usando o valor da variável \"df_streaming_input\" para fazer um agrupamento\n",
    "                              df_streaming_input.id,#agrupando por \"id\"\n",
    "                              window(df_streaming_input.createdAt, \"1 minute\")#agrupando por \"createdAt\" em uma janela de 1 minuto\n",
    "                              )\n",
    "                              .count()#faz um count de cada item\n",
    "                       )"
   ]
  },
  {
   "cell_type": "code",
   "execution_count": 0,
   "metadata": {
    "application/vnd.databricks.v1+cell": {
     "cellMetadata": {
      "byteLimit": 2048000,
      "rowLimit": 10000
     },
     "inputWidgets": {},
     "nuid": "86c3777e-763c-4b6f-832e-1613ee553d39",
     "showTitle": false,
     "tableResultSettingsMap": {},
     "title": ""
    }
   },
   "outputs": [],
   "source": [
    "#Aqui criaremos uma query interativa, conforme a ingestão de um novo dataset ocorre, essa query é \"atualizada\".\n",
    "query = (\n",
    "  df_streaming_counts \n",
    "    .writeStream\n",
    "    .format(\"memory\")        # Armazenando as informações em memória.\n",
    "    .queryName(\"contagem\")   # Nome da tabela criada em memória.\n",
    "    .outputMode(\"update\")    # Modo Update de Output.\n",
    "    .start()                 #da inicio na query\n",
    ")"
   ]
  },
  {
   "cell_type": "code",
   "execution_count": 0,
   "metadata": {
    "application/vnd.databricks.v1+cell": {
     "cellMetadata": {
      "byteLimit": 2048000,
      "implicitDf": true,
      "rowLimit": 10000
     },
     "inputWidgets": {},
     "nuid": "c9a0e4e8-95b5-43a5-9571-a8087dc97a89",
     "showTitle": false,
     "tableResultSettingsMap": {},
     "title": ""
    }
   },
   "outputs": [
    {
     "output_type": "display_data",
     "data": {
      "text/html": [
       "<style scoped>\n",
       "  .table-result-container {\n",
       "    max-height: 300px;\n",
       "    overflow: auto;\n",
       "  }\n",
       "  table, th, td {\n",
       "    border: 1px solid black;\n",
       "    border-collapse: collapse;\n",
       "  }\n",
       "  th, td {\n",
       "    padding: 5px;\n",
       "  }\n",
       "  th {\n",
       "    text-align: left;\n",
       "  }\n",
       "</style><div class='table-result-container'><table class='table-result'><thead style='background-color: white'><tr><th>id</th><th>window</th><th>count</th></tr></thead><tbody><tr><td>5</td><td>List(2025-03-05T12:04:00.000+0000, 2025-03-05T12:05:00.000+0000)</td><td>10</td></tr><tr><td>49</td><td>List(2025-03-04T21:36:00.000+0000, 2025-03-04T21:37:00.000+0000)</td><td>10</td></tr><tr><td>18</td><td>List(2025-03-05T07:36:00.000+0000, 2025-03-05T07:37:00.000+0000)</td><td>10</td></tr><tr><td>13</td><td>List(2025-03-04T23:14:00.000+0000, 2025-03-04T23:15:00.000+0000)</td><td>10</td></tr><tr><td>27</td><td>List(2025-03-04T20:45:00.000+0000, 2025-03-04T20:46:00.000+0000)</td><td>10</td></tr><tr><td>44</td><td>List(2025-03-05T16:20:00.000+0000, 2025-03-05T16:21:00.000+0000)</td><td>10</td></tr><tr><td>19</td><td>List(2025-03-05T00:27:00.000+0000, 2025-03-05T00:28:00.000+0000)</td><td>10</td></tr><tr><td>43</td><td>List(2025-03-05T11:40:00.000+0000, 2025-03-05T11:41:00.000+0000)</td><td>10</td></tr><tr><td>21</td><td>List(2025-03-05T07:13:00.000+0000, 2025-03-05T07:14:00.000+0000)</td><td>10</td></tr><tr><td>20</td><td>List(2025-03-05T12:30:00.000+0000, 2025-03-05T12:31:00.000+0000)</td><td>10</td></tr><tr><td>30</td><td>List(2025-03-05T11:42:00.000+0000, 2025-03-05T11:43:00.000+0000)</td><td>10</td></tr><tr><td>50</td><td>List(2025-03-05T07:07:00.000+0000, 2025-03-05T07:08:00.000+0000)</td><td>10</td></tr><tr><td>46</td><td>List(2025-03-05T07:56:00.000+0000, 2025-03-05T07:57:00.000+0000)</td><td>10</td></tr><tr><td>37</td><td>List(2025-03-04T22:51:00.000+0000, 2025-03-04T22:52:00.000+0000)</td><td>10</td></tr><tr><td>40</td><td>List(2025-03-04T22:02:00.000+0000, 2025-03-04T22:03:00.000+0000)</td><td>10</td></tr><tr><td>7</td><td>List(2025-03-05T01:33:00.000+0000, 2025-03-05T01:34:00.000+0000)</td><td>10</td></tr><tr><td>29</td><td>List(2025-03-05T15:31:00.000+0000, 2025-03-05T15:32:00.000+0000)</td><td>10</td></tr><tr><td>15</td><td>List(2025-03-05T00:35:00.000+0000, 2025-03-05T00:36:00.000+0000)</td><td>10</td></tr><tr><td>16</td><td>List(2025-03-05T13:17:00.000+0000, 2025-03-05T13:18:00.000+0000)</td><td>10</td></tr><tr><td>22</td><td>List(2025-03-05T15:48:00.000+0000, 2025-03-05T15:49:00.000+0000)</td><td>10</td></tr><tr><td>10</td><td>List(2025-03-04T22:05:00.000+0000, 2025-03-04T22:06:00.000+0000)</td><td>10</td></tr><tr><td>38</td><td>List(2025-03-04T17:56:00.000+0000, 2025-03-04T17:57:00.000+0000)</td><td>10</td></tr><tr><td>14</td><td>List(2025-03-04T19:56:00.000+0000, 2025-03-04T19:57:00.000+0000)</td><td>10</td></tr><tr><td>45</td><td>List(2025-03-05T09:33:00.000+0000, 2025-03-05T09:34:00.000+0000)</td><td>10</td></tr><tr><td>28</td><td>List(2025-03-04T20:23:00.000+0000, 2025-03-04T20:24:00.000+0000)</td><td>10</td></tr><tr><td>39</td><td>List(2025-03-05T07:45:00.000+0000, 2025-03-05T07:46:00.000+0000)</td><td>10</td></tr><tr><td>24</td><td>List(2025-03-05T10:19:00.000+0000, 2025-03-05T10:20:00.000+0000)</td><td>10</td></tr><tr><td>42</td><td>List(2025-03-05T12:55:00.000+0000, 2025-03-05T12:56:00.000+0000)</td><td>10</td></tr><tr><td>31</td><td>List(2025-03-05T06:50:00.000+0000, 2025-03-05T06:51:00.000+0000)</td><td>10</td></tr><tr><td>36</td><td>List(2025-03-05T12:28:00.000+0000, 2025-03-05T12:29:00.000+0000)</td><td>10</td></tr><tr><td>47</td><td>List(2025-03-05T14:08:00.000+0000, 2025-03-05T14:09:00.000+0000)</td><td>10</td></tr><tr><td>48</td><td>List(2025-03-04T18:15:00.000+0000, 2025-03-04T18:16:00.000+0000)</td><td>10</td></tr><tr><td>9</td><td>List(2025-03-04T17:27:00.000+0000, 2025-03-04T17:28:00.000+0000)</td><td>10</td></tr><tr><td>12</td><td>List(2025-03-05T09:24:00.000+0000, 2025-03-05T09:25:00.000+0000)</td><td>10</td></tr><tr><td>3</td><td>List(2025-03-04T16:23:00.000+0000, 2025-03-04T16:24:00.000+0000)</td><td>10</td></tr><tr><td>8</td><td>List(2025-03-04T22:11:00.000+0000, 2025-03-04T22:12:00.000+0000)</td><td>10</td></tr><tr><td>23</td><td>List(2025-03-05T02:05:00.000+0000, 2025-03-05T02:06:00.000+0000)</td><td>10</td></tr><tr><td>33</td><td>List(2025-03-04T19:14:00.000+0000, 2025-03-04T19:15:00.000+0000)</td><td>10</td></tr><tr><td>4</td><td>List(2025-03-05T12:22:00.000+0000, 2025-03-05T12:23:00.000+0000)</td><td>10</td></tr><tr><td>11</td><td>List(2025-03-04T23:23:00.000+0000, 2025-03-04T23:24:00.000+0000)</td><td>10</td></tr><tr><td>35</td><td>List(2025-03-05T10:47:00.000+0000, 2025-03-05T10:48:00.000+0000)</td><td>10</td></tr><tr><td>1</td><td>List(2025-03-05T13:23:00.000+0000, 2025-03-05T13:24:00.000+0000)</td><td>10</td></tr><tr><td>34</td><td>List(2025-03-05T00:39:00.000+0000, 2025-03-05T00:40:00.000+0000)</td><td>10</td></tr><tr><td>26</td><td>List(2025-03-05T09:35:00.000+0000, 2025-03-05T09:36:00.000+0000)</td><td>10</td></tr><tr><td>32</td><td>List(2025-03-05T11:11:00.000+0000, 2025-03-05T11:12:00.000+0000)</td><td>10</td></tr><tr><td>41</td><td>List(2025-03-05T09:50:00.000+0000, 2025-03-05T09:51:00.000+0000)</td><td>10</td></tr><tr><td>25</td><td>List(2025-03-05T11:03:00.000+0000, 2025-03-05T11:04:00.000+0000)</td><td>10</td></tr><tr><td>6</td><td>List(2025-03-04T19:25:00.000+0000, 2025-03-04T19:26:00.000+0000)</td><td>10</td></tr><tr><td>17</td><td>List(2025-03-05T04:04:00.000+0000, 2025-03-05T04:05:00.000+0000)</td><td>10</td></tr><tr><td>2</td><td>List(2025-03-04T19:11:00.000+0000, 2025-03-04T19:12:00.000+0000)</td><td>10</td></tr></tbody></table></div>"
      ]
     },
     "metadata": {
      "application/vnd.databricks.v1+output": {
       "addedWidgets": {},
       "aggData": [],
       "aggError": "",
       "aggOverflow": false,
       "aggSchema": [],
       "aggSeriesLimitReached": false,
       "aggType": "",
       "arguments": {},
       "columnCustomDisplayInfos": {},
       "data": [
        [
         "5",
         [
          "2025-03-05T12:04:00.000+0000",
          "2025-03-05T12:05:00.000+0000"
         ],
         10
        ],
        [
         "49",
         [
          "2025-03-04T21:36:00.000+0000",
          "2025-03-04T21:37:00.000+0000"
         ],
         10
        ],
        [
         "18",
         [
          "2025-03-05T07:36:00.000+0000",
          "2025-03-05T07:37:00.000+0000"
         ],
         10
        ],
        [
         "13",
         [
          "2025-03-04T23:14:00.000+0000",
          "2025-03-04T23:15:00.000+0000"
         ],
         10
        ],
        [
         "27",
         [
          "2025-03-04T20:45:00.000+0000",
          "2025-03-04T20:46:00.000+0000"
         ],
         10
        ],
        [
         "44",
         [
          "2025-03-05T16:20:00.000+0000",
          "2025-03-05T16:21:00.000+0000"
         ],
         10
        ],
        [
         "19",
         [
          "2025-03-05T00:27:00.000+0000",
          "2025-03-05T00:28:00.000+0000"
         ],
         10
        ],
        [
         "43",
         [
          "2025-03-05T11:40:00.000+0000",
          "2025-03-05T11:41:00.000+0000"
         ],
         10
        ],
        [
         "21",
         [
          "2025-03-05T07:13:00.000+0000",
          "2025-03-05T07:14:00.000+0000"
         ],
         10
        ],
        [
         "20",
         [
          "2025-03-05T12:30:00.000+0000",
          "2025-03-05T12:31:00.000+0000"
         ],
         10
        ],
        [
         "30",
         [
          "2025-03-05T11:42:00.000+0000",
          "2025-03-05T11:43:00.000+0000"
         ],
         10
        ],
        [
         "50",
         [
          "2025-03-05T07:07:00.000+0000",
          "2025-03-05T07:08:00.000+0000"
         ],
         10
        ],
        [
         "46",
         [
          "2025-03-05T07:56:00.000+0000",
          "2025-03-05T07:57:00.000+0000"
         ],
         10
        ],
        [
         "37",
         [
          "2025-03-04T22:51:00.000+0000",
          "2025-03-04T22:52:00.000+0000"
         ],
         10
        ],
        [
         "40",
         [
          "2025-03-04T22:02:00.000+0000",
          "2025-03-04T22:03:00.000+0000"
         ],
         10
        ],
        [
         "7",
         [
          "2025-03-05T01:33:00.000+0000",
          "2025-03-05T01:34:00.000+0000"
         ],
         10
        ],
        [
         "29",
         [
          "2025-03-05T15:31:00.000+0000",
          "2025-03-05T15:32:00.000+0000"
         ],
         10
        ],
        [
         "15",
         [
          "2025-03-05T00:35:00.000+0000",
          "2025-03-05T00:36:00.000+0000"
         ],
         10
        ],
        [
         "16",
         [
          "2025-03-05T13:17:00.000+0000",
          "2025-03-05T13:18:00.000+0000"
         ],
         10
        ],
        [
         "22",
         [
          "2025-03-05T15:48:00.000+0000",
          "2025-03-05T15:49:00.000+0000"
         ],
         10
        ],
        [
         "10",
         [
          "2025-03-04T22:05:00.000+0000",
          "2025-03-04T22:06:00.000+0000"
         ],
         10
        ],
        [
         "38",
         [
          "2025-03-04T17:56:00.000+0000",
          "2025-03-04T17:57:00.000+0000"
         ],
         10
        ],
        [
         "14",
         [
          "2025-03-04T19:56:00.000+0000",
          "2025-03-04T19:57:00.000+0000"
         ],
         10
        ],
        [
         "45",
         [
          "2025-03-05T09:33:00.000+0000",
          "2025-03-05T09:34:00.000+0000"
         ],
         10
        ],
        [
         "28",
         [
          "2025-03-04T20:23:00.000+0000",
          "2025-03-04T20:24:00.000+0000"
         ],
         10
        ],
        [
         "39",
         [
          "2025-03-05T07:45:00.000+0000",
          "2025-03-05T07:46:00.000+0000"
         ],
         10
        ],
        [
         "24",
         [
          "2025-03-05T10:19:00.000+0000",
          "2025-03-05T10:20:00.000+0000"
         ],
         10
        ],
        [
         "42",
         [
          "2025-03-05T12:55:00.000+0000",
          "2025-03-05T12:56:00.000+0000"
         ],
         10
        ],
        [
         "31",
         [
          "2025-03-05T06:50:00.000+0000",
          "2025-03-05T06:51:00.000+0000"
         ],
         10
        ],
        [
         "36",
         [
          "2025-03-05T12:28:00.000+0000",
          "2025-03-05T12:29:00.000+0000"
         ],
         10
        ],
        [
         "47",
         [
          "2025-03-05T14:08:00.000+0000",
          "2025-03-05T14:09:00.000+0000"
         ],
         10
        ],
        [
         "48",
         [
          "2025-03-04T18:15:00.000+0000",
          "2025-03-04T18:16:00.000+0000"
         ],
         10
        ],
        [
         "9",
         [
          "2025-03-04T17:27:00.000+0000",
          "2025-03-04T17:28:00.000+0000"
         ],
         10
        ],
        [
         "12",
         [
          "2025-03-05T09:24:00.000+0000",
          "2025-03-05T09:25:00.000+0000"
         ],
         10
        ],
        [
         "3",
         [
          "2025-03-04T16:23:00.000+0000",
          "2025-03-04T16:24:00.000+0000"
         ],
         10
        ],
        [
         "8",
         [
          "2025-03-04T22:11:00.000+0000",
          "2025-03-04T22:12:00.000+0000"
         ],
         10
        ],
        [
         "23",
         [
          "2025-03-05T02:05:00.000+0000",
          "2025-03-05T02:06:00.000+0000"
         ],
         10
        ],
        [
         "33",
         [
          "2025-03-04T19:14:00.000+0000",
          "2025-03-04T19:15:00.000+0000"
         ],
         10
        ],
        [
         "4",
         [
          "2025-03-05T12:22:00.000+0000",
          "2025-03-05T12:23:00.000+0000"
         ],
         10
        ],
        [
         "11",
         [
          "2025-03-04T23:23:00.000+0000",
          "2025-03-04T23:24:00.000+0000"
         ],
         10
        ],
        [
         "35",
         [
          "2025-03-05T10:47:00.000+0000",
          "2025-03-05T10:48:00.000+0000"
         ],
         10
        ],
        [
         "1",
         [
          "2025-03-05T13:23:00.000+0000",
          "2025-03-05T13:24:00.000+0000"
         ],
         10
        ],
        [
         "34",
         [
          "2025-03-05T00:39:00.000+0000",
          "2025-03-05T00:40:00.000+0000"
         ],
         10
        ],
        [
         "26",
         [
          "2025-03-05T09:35:00.000+0000",
          "2025-03-05T09:36:00.000+0000"
         ],
         10
        ],
        [
         "32",
         [
          "2025-03-05T11:11:00.000+0000",
          "2025-03-05T11:12:00.000+0000"
         ],
         10
        ],
        [
         "41",
         [
          "2025-03-05T09:50:00.000+0000",
          "2025-03-05T09:51:00.000+0000"
         ],
         10
        ],
        [
         "25",
         [
          "2025-03-05T11:03:00.000+0000",
          "2025-03-05T11:04:00.000+0000"
         ],
         10
        ],
        [
         "6",
         [
          "2025-03-04T19:25:00.000+0000",
          "2025-03-04T19:26:00.000+0000"
         ],
         10
        ],
        [
         "17",
         [
          "2025-03-05T04:04:00.000+0000",
          "2025-03-05T04:05:00.000+0000"
         ],
         10
        ],
        [
         "2",
         [
          "2025-03-04T19:11:00.000+0000",
          "2025-03-04T19:12:00.000+0000"
         ],
         10
        ]
       ],
       "datasetInfos": [],
       "dbfsResultPath": null,
       "isJsonSchema": true,
       "metadata": {},
       "overflow": false,
       "plotOptions": {
        "customPlotOptions": {},
        "displayType": "table",
        "pivotAggregation": null,
        "pivotColumns": null,
        "xColumns": null,
        "yColumns": null
       },
       "removedWidgets": [],
       "schema": [
        {
         "metadata": "{}",
         "name": "id",
         "type": "\"string\""
        },
        {
         "metadata": "{\"spark.timeWindow\":true}",
         "name": "window",
         "type": "{\"type\":\"struct\",\"fields\":[{\"name\":\"start\",\"type\":\"timestamp\",\"nullable\":true,\"metadata\":{}},{\"name\":\"end\",\"type\":\"timestamp\",\"nullable\":true,\"metadata\":{}}]}"
        },
        {
         "metadata": "{}",
         "name": "count",
         "type": "\"long\""
        }
       ],
       "type": "table"
      }
     },
     "output_type": "display_data"
    }
   ],
   "source": [
    "%sql\n",
    "/*seleciona todas as colunas para ver quantas tem*/\n",
    "select * from contagem"
   ]
  },
  {
   "cell_type": "code",
   "execution_count": 0,
   "metadata": {
    "application/vnd.databricks.v1+cell": {
     "cellMetadata": {
      "byteLimit": 2048000,
      "implicitDf": true,
      "rowLimit": 10000
     },
     "inputWidgets": {},
     "nuid": "508bf717-e44f-4839-a639-d4adceee8dda",
     "showTitle": false,
     "tableResultSettingsMap": {},
     "title": ""
    }
   },
   "outputs": [
    {
     "output_type": "display_data",
     "data": {
      "text/html": [
       "<style scoped>\n",
       "  .table-result-container {\n",
       "    max-height: 300px;\n",
       "    overflow: auto;\n",
       "  }\n",
       "  table, th, td {\n",
       "    border: 1px solid black;\n",
       "    border-collapse: collapse;\n",
       "  }\n",
       "  th, td {\n",
       "    padding: 5px;\n",
       "  }\n",
       "  th {\n",
       "    text-align: left;\n",
       "  }\n",
       "</style><div class='table-result-container'><table class='table-result'><thead style='background-color: white'><tr><th>id</th><th>timeStart</th><th>timeEnd</th><th>count</th></tr></thead><tbody><tr><td>1</td><td>Mar-05 13:23</td><td>Mar-05 13:24</td><td>10</td></tr><tr><td>10</td><td>Mar-04 22:05</td><td>Mar-04 22:06</td><td>10</td></tr><tr><td>11</td><td>Mar-04 23:23</td><td>Mar-04 23:24</td><td>10</td></tr><tr><td>12</td><td>Mar-05 09:24</td><td>Mar-05 09:25</td><td>10</td></tr><tr><td>13</td><td>Mar-04 23:14</td><td>Mar-04 23:15</td><td>10</td></tr><tr><td>14</td><td>Mar-04 19:56</td><td>Mar-04 19:57</td><td>10</td></tr><tr><td>15</td><td>Mar-05 00:35</td><td>Mar-05 00:36</td><td>10</td></tr><tr><td>16</td><td>Mar-05 13:17</td><td>Mar-05 13:18</td><td>10</td></tr><tr><td>17</td><td>Mar-05 04:04</td><td>Mar-05 04:05</td><td>10</td></tr><tr><td>18</td><td>Mar-05 07:36</td><td>Mar-05 07:37</td><td>10</td></tr><tr><td>19</td><td>Mar-05 00:27</td><td>Mar-05 00:28</td><td>10</td></tr><tr><td>2</td><td>Mar-04 19:11</td><td>Mar-04 19:12</td><td>10</td></tr><tr><td>20</td><td>Mar-05 12:30</td><td>Mar-05 12:31</td><td>10</td></tr><tr><td>21</td><td>Mar-05 07:13</td><td>Mar-05 07:14</td><td>10</td></tr><tr><td>22</td><td>Mar-05 15:48</td><td>Mar-05 15:49</td><td>10</td></tr><tr><td>23</td><td>Mar-05 02:05</td><td>Mar-05 02:06</td><td>10</td></tr><tr><td>24</td><td>Mar-05 10:19</td><td>Mar-05 10:20</td><td>10</td></tr><tr><td>25</td><td>Mar-05 11:03</td><td>Mar-05 11:04</td><td>10</td></tr><tr><td>26</td><td>Mar-05 09:35</td><td>Mar-05 09:36</td><td>10</td></tr><tr><td>27</td><td>Mar-04 20:45</td><td>Mar-04 20:46</td><td>10</td></tr><tr><td>28</td><td>Mar-04 20:23</td><td>Mar-04 20:24</td><td>10</td></tr><tr><td>29</td><td>Mar-05 15:31</td><td>Mar-05 15:32</td><td>10</td></tr><tr><td>3</td><td>Mar-04 16:23</td><td>Mar-04 16:24</td><td>10</td></tr><tr><td>30</td><td>Mar-05 11:42</td><td>Mar-05 11:43</td><td>10</td></tr><tr><td>31</td><td>Mar-05 06:50</td><td>Mar-05 06:51</td><td>10</td></tr><tr><td>32</td><td>Mar-05 11:11</td><td>Mar-05 11:12</td><td>10</td></tr><tr><td>33</td><td>Mar-04 19:14</td><td>Mar-04 19:15</td><td>10</td></tr><tr><td>34</td><td>Mar-05 00:39</td><td>Mar-05 00:40</td><td>10</td></tr><tr><td>35</td><td>Mar-05 10:47</td><td>Mar-05 10:48</td><td>10</td></tr><tr><td>36</td><td>Mar-05 12:28</td><td>Mar-05 12:29</td><td>10</td></tr><tr><td>37</td><td>Mar-04 22:51</td><td>Mar-04 22:52</td><td>10</td></tr><tr><td>38</td><td>Mar-04 17:56</td><td>Mar-04 17:57</td><td>10</td></tr><tr><td>39</td><td>Mar-05 07:45</td><td>Mar-05 07:46</td><td>10</td></tr><tr><td>4</td><td>Mar-05 12:22</td><td>Mar-05 12:23</td><td>10</td></tr><tr><td>40</td><td>Mar-04 22:02</td><td>Mar-04 22:03</td><td>10</td></tr><tr><td>41</td><td>Mar-05 09:50</td><td>Mar-05 09:51</td><td>10</td></tr><tr><td>42</td><td>Mar-05 12:55</td><td>Mar-05 12:56</td><td>10</td></tr><tr><td>43</td><td>Mar-05 11:40</td><td>Mar-05 11:41</td><td>10</td></tr><tr><td>44</td><td>Mar-05 16:20</td><td>Mar-05 16:21</td><td>10</td></tr><tr><td>45</td><td>Mar-05 09:33</td><td>Mar-05 09:34</td><td>10</td></tr><tr><td>46</td><td>Mar-05 07:56</td><td>Mar-05 07:57</td><td>10</td></tr><tr><td>47</td><td>Mar-05 14:08</td><td>Mar-05 14:09</td><td>10</td></tr><tr><td>48</td><td>Mar-04 18:15</td><td>Mar-04 18:16</td><td>10</td></tr><tr><td>49</td><td>Mar-04 21:36</td><td>Mar-04 21:37</td><td>10</td></tr><tr><td>5</td><td>Mar-05 12:04</td><td>Mar-05 12:05</td><td>10</td></tr><tr><td>50</td><td>Mar-05 07:07</td><td>Mar-05 07:08</td><td>10</td></tr><tr><td>6</td><td>Mar-04 19:25</td><td>Mar-04 19:26</td><td>10</td></tr><tr><td>7</td><td>Mar-05 01:33</td><td>Mar-05 01:34</td><td>10</td></tr><tr><td>8</td><td>Mar-04 22:11</td><td>Mar-04 22:12</td><td>10</td></tr><tr><td>9</td><td>Mar-04 17:27</td><td>Mar-04 17:28</td><td>10</td></tr></tbody></table></div>"
      ]
     },
     "metadata": {
      "application/vnd.databricks.v1+output": {
       "addedWidgets": {},
       "aggData": [],
       "aggError": "",
       "aggOverflow": false,
       "aggSchema": [],
       "aggSeriesLimitReached": false,
       "aggType": "",
       "arguments": {},
       "columnCustomDisplayInfos": {},
       "data": [
        [
         "1",
         "Mar-05 13:23",
         "Mar-05 13:24",
         10
        ],
        [
         "10",
         "Mar-04 22:05",
         "Mar-04 22:06",
         10
        ],
        [
         "11",
         "Mar-04 23:23",
         "Mar-04 23:24",
         10
        ],
        [
         "12",
         "Mar-05 09:24",
         "Mar-05 09:25",
         10
        ],
        [
         "13",
         "Mar-04 23:14",
         "Mar-04 23:15",
         10
        ],
        [
         "14",
         "Mar-04 19:56",
         "Mar-04 19:57",
         10
        ],
        [
         "15",
         "Mar-05 00:35",
         "Mar-05 00:36",
         10
        ],
        [
         "16",
         "Mar-05 13:17",
         "Mar-05 13:18",
         10
        ],
        [
         "17",
         "Mar-05 04:04",
         "Mar-05 04:05",
         10
        ],
        [
         "18",
         "Mar-05 07:36",
         "Mar-05 07:37",
         10
        ],
        [
         "19",
         "Mar-05 00:27",
         "Mar-05 00:28",
         10
        ],
        [
         "2",
         "Mar-04 19:11",
         "Mar-04 19:12",
         10
        ],
        [
         "20",
         "Mar-05 12:30",
         "Mar-05 12:31",
         10
        ],
        [
         "21",
         "Mar-05 07:13",
         "Mar-05 07:14",
         10
        ],
        [
         "22",
         "Mar-05 15:48",
         "Mar-05 15:49",
         10
        ],
        [
         "23",
         "Mar-05 02:05",
         "Mar-05 02:06",
         10
        ],
        [
         "24",
         "Mar-05 10:19",
         "Mar-05 10:20",
         10
        ],
        [
         "25",
         "Mar-05 11:03",
         "Mar-05 11:04",
         10
        ],
        [
         "26",
         "Mar-05 09:35",
         "Mar-05 09:36",
         10
        ],
        [
         "27",
         "Mar-04 20:45",
         "Mar-04 20:46",
         10
        ],
        [
         "28",
         "Mar-04 20:23",
         "Mar-04 20:24",
         10
        ],
        [
         "29",
         "Mar-05 15:31",
         "Mar-05 15:32",
         10
        ],
        [
         "3",
         "Mar-04 16:23",
         "Mar-04 16:24",
         10
        ],
        [
         "30",
         "Mar-05 11:42",
         "Mar-05 11:43",
         10
        ],
        [
         "31",
         "Mar-05 06:50",
         "Mar-05 06:51",
         10
        ],
        [
         "32",
         "Mar-05 11:11",
         "Mar-05 11:12",
         10
        ],
        [
         "33",
         "Mar-04 19:14",
         "Mar-04 19:15",
         10
        ],
        [
         "34",
         "Mar-05 00:39",
         "Mar-05 00:40",
         10
        ],
        [
         "35",
         "Mar-05 10:47",
         "Mar-05 10:48",
         10
        ],
        [
         "36",
         "Mar-05 12:28",
         "Mar-05 12:29",
         10
        ],
        [
         "37",
         "Mar-04 22:51",
         "Mar-04 22:52",
         10
        ],
        [
         "38",
         "Mar-04 17:56",
         "Mar-04 17:57",
         10
        ],
        [
         "39",
         "Mar-05 07:45",
         "Mar-05 07:46",
         10
        ],
        [
         "4",
         "Mar-05 12:22",
         "Mar-05 12:23",
         10
        ],
        [
         "40",
         "Mar-04 22:02",
         "Mar-04 22:03",
         10
        ],
        [
         "41",
         "Mar-05 09:50",
         "Mar-05 09:51",
         10
        ],
        [
         "42",
         "Mar-05 12:55",
         "Mar-05 12:56",
         10
        ],
        [
         "43",
         "Mar-05 11:40",
         "Mar-05 11:41",
         10
        ],
        [
         "44",
         "Mar-05 16:20",
         "Mar-05 16:21",
         10
        ],
        [
         "45",
         "Mar-05 09:33",
         "Mar-05 09:34",
         10
        ],
        [
         "46",
         "Mar-05 07:56",
         "Mar-05 07:57",
         10
        ],
        [
         "47",
         "Mar-05 14:08",
         "Mar-05 14:09",
         10
        ],
        [
         "48",
         "Mar-04 18:15",
         "Mar-04 18:16",
         10
        ],
        [
         "49",
         "Mar-04 21:36",
         "Mar-04 21:37",
         10
        ],
        [
         "5",
         "Mar-05 12:04",
         "Mar-05 12:05",
         10
        ],
        [
         "50",
         "Mar-05 07:07",
         "Mar-05 07:08",
         10
        ],
        [
         "6",
         "Mar-04 19:25",
         "Mar-04 19:26",
         10
        ],
        [
         "7",
         "Mar-05 01:33",
         "Mar-05 01:34",
         10
        ],
        [
         "8",
         "Mar-04 22:11",
         "Mar-04 22:12",
         10
        ],
        [
         "9",
         "Mar-04 17:27",
         "Mar-04 17:28",
         10
        ]
       ],
       "datasetInfos": [],
       "dbfsResultPath": null,
       "isJsonSchema": true,
       "metadata": {},
       "overflow": false,
       "plotOptions": {
        "customPlotOptions": {},
        "displayType": "table",
        "pivotAggregation": null,
        "pivotColumns": null,
        "xColumns": null,
        "yColumns": null
       },
       "removedWidgets": [],
       "schema": [
        {
         "metadata": "{}",
         "name": "id",
         "type": "\"string\""
        },
        {
         "metadata": "{}",
         "name": "timeStart",
         "type": "\"string\""
        },
        {
         "metadata": "{}",
         "name": "timeEnd",
         "type": "\"string\""
        },
        {
         "metadata": "{}",
         "name": "count",
         "type": "\"long\""
        }
       ],
       "type": "table"
      }
     },
     "output_type": "display_data"
    }
   ],
   "source": [
    "%sql \n",
    "/* Consultando os indicadores utilizando SQL, repare que ao longo do tempo, executando diversas vezes esta query faz com que a tabela apresente resultados diferentes ao longo do processo de ingestão. */\n",
    "\n",
    "/*esse select vai trazer o id, timeEnd(com a data final), timeStart(com a data de start) e o count da tabela \"contagem\" em memoria */\n",
    "select id, date_format(window.start, \"MMM-dd HH:mm\") as timeStart , date_format(window.end, \"MMM-dd HH:mm\") as timeEnd, count from contagem order by id, timeStart"
   ]
  }
 ],
 "metadata": {
  "application/vnd.databricks.v1+notebook": {
   "computePreferences": null,
   "dashboards": [],
   "environmentMetadata": {
    "base_environment": "",
    "client": "1"
   },
   "language": "python",
   "notebookMetadata": {
    "mostRecentlyExecutedCommandWithImplicitDF": {
     "commandId": 3907439858872153,
     "dataframes": [
      "_sqldf"
     ]
    },
    "pythonIndentUnit": 4
   },
   "notebookName": "Streaming Processing Pipelines",
   "widgets": {}
  }
 },
 "nbformat": 4,
 "nbformat_minor": 0
}
